{
 "cells": [
  {
   "cell_type": "code",
   "execution_count": 1,
   "metadata": {},
   "outputs": [],
   "source": [
    "from module import dqn\n",
    "\n",
    "import random\n",
    "\n",
    "import gym\n",
    "import numpy as np\n",
    "import matplotlib.pyplot as plt "
   ]
  },
  {
   "cell_type": "code",
   "execution_count": 2,
   "metadata": {},
   "outputs": [
    {
     "name": "stdout",
     "output_type": "stream",
     "text": [
      "State size =  8 ; action size =  4\n"
     ]
    }
   ],
   "source": [
    "env = gym.make('LunarLander-v2', continuous=False, render_mode='human')\n",
    "# get size of state and action from environment\n",
    "state_size = env.observation_space.shape[0]\n",
    "action_size = env.action_space.n\n",
    "\n",
    "print(\"State size = \", state_size, \"; action size = \", action_size)"
   ]
  },
  {
   "cell_type": "markdown",
   "metadata": {},
   "source": [
    "TRAINING"
   ]
  },
  {
   "cell_type": "code",
   "execution_count": 3,
   "metadata": {},
   "outputs": [
    {
     "name": "stdout",
     "output_type": "stream",
     "text": [
      "Episode: 0  -- Score: -88.60831897623112  -- Avg score: -88.61\n"
     ]
    },
    {
     "name": "stderr",
     "output_type": "stream",
     "text": [
      "/Users/sondinhvan/miniconda3/envs/rl_env/lib/python3.9/site-packages/gym/utils/passive_env_checker.py:233: DeprecationWarning: `np.bool8` is a deprecated alias for `np.bool_`.  (Deprecated NumPy 1.24)\n",
      "  if not isinstance(terminated, (bool, np.bool8)):\n"
     ]
    },
    {
     "name": "stdout",
     "output_type": "stream",
     "text": [
      "Episode: 10  -- Score: -440.67096066420015  -- Avg score: -261.81\n",
      "Collect enough samples. Start training.\n",
      "Episode: 20  -- Score: -31.21736685709476  -- Avg score: -287.93\n",
      "Episode: 30  -- Score: -15.311660344797772  -- Avg score: -221.03\n",
      "Episode: 40  -- Score: 9.867655088489954  -- Avg score: -182.45\n",
      "Episode: 50  -- Score: -47.35461417649094  -- Avg score: -154.32\n",
      "Episode: 60  -- Score: 175.7837194781779  -- Avg score: -128.3\n",
      "Exit the game since this episode takes too long.\n",
      "Exit the game since this episode takes too long.\n",
      "Exit the game since this episode takes too long.\n",
      "Exit the game since this episode takes too long.\n",
      "Exit the game since this episode takes too long.\n",
      "Exit the game since this episode takes too long.\n",
      "Exit the game since this episode takes too long.\n",
      "Exit the game since this episode takes too long.\n",
      "Exit the game since this episode takes too long.\n",
      "Exit the game since this episode takes too long.\n",
      "Exit the game since this episode takes too long.\n",
      "Exit the game since this episode takes too long.\n",
      "Exit the game since this episode takes too long.\n",
      "Exit the game since this episode takes too long.\n",
      "Exit the game since this episode takes too long.\n",
      "Exit the game since this episode takes too long.\n",
      "Exit the game since this episode takes too long.\n",
      "Exit the game since this episode takes too long.\n",
      "Exit the game since this episode takes too long.\n",
      "Exit the game since this episode takes too long.\n",
      "Episode: 100  -- Score: -229.04672432283792  -- Avg score: -142.88\n",
      "Exit the game since this episode takes too long.\n",
      "Exit the game since this episode takes too long.\n",
      "Exit the game since this episode takes too long.\n",
      "Exit the game since this episode takes too long.\n",
      "Episode: 110  -- Score: -341.4752740330763  -- Avg score: -141.46\n",
      "Exit the game since this episode takes too long.\n",
      "Exit the game since this episode takes too long.\n",
      "Exit the game since this episode takes too long.\n",
      "Exit the game since this episode takes too long.\n",
      "Episode: 120  -- Score: -279.5325627081902  -- Avg score: -142.93\n",
      "Exit the game since this episode takes too long.\n",
      "Exit the game since this episode takes too long.\n",
      "Exit the game since this episode takes too long.\n",
      "Exit the game since this episode takes too long.\n",
      "Exit the game since this episode takes too long.\n",
      "Exit the game since this episode takes too long.\n",
      "Exit the game since this episode takes too long.\n",
      "Exit the game since this episode takes too long.\n",
      "Exit the game since this episode takes too long.\n",
      "Exit the game since this episode takes too long.\n",
      "Exit the game since this episode takes too long.\n",
      "Exit the game since this episode takes too long.\n",
      "Episode: 150  -- Score: -32.255383041908374  -- Avg score: -93.23\n",
      "Exit the game since this episode takes too long.\n",
      "Episode: 160  -- Score: 283.5645827513606  -- Avg score: -51.29\n",
      "Episode: 170  -- Score: 179.57339277279692  -- Avg score: -22.84\n",
      "Episode: 180  -- Score: 233.2928612355697  -- Avg score: -7.41\n",
      "Episode: 190  -- Score: -189.76352374467106  -- Avg score: -8.61\n",
      "Exit the game since this episode takes too long.\n",
      "Episode: 200  -- Score: 226.30230295587182  -- Avg score: -0.22\n",
      "Episode: 210  -- Score: 274.4392137715681  -- Avg score: 32.15\n",
      "Episode: 220  -- Score: 157.3545829956263  -- Avg score: 74.65\n",
      "Episode: 230  -- Score: 243.80267917137877  -- Avg score: 110.44\n",
      "Episode: 240  -- Score: 214.80281530992355  -- Avg score: 134.89\n",
      "Episode: 250  -- Score: -222.42087235575377  -- Avg score: 144.03\n",
      "Episode: 260  -- Score: 264.29800494241425  -- Avg score: 154.25\n",
      "Episode: 270  -- Score: 262.3474532898523  -- Avg score: 153.86\n",
      "Episode: 280  -- Score: 238.47086201536916  -- Avg score: 163.81\n",
      "Episode: 290  -- Score: 289.6762147921391  -- Avg score: 185.21\n",
      "Episode: 300  -- Score: 209.74061308703904  -- Avg score: 204.46\n",
      "Episode: 310  -- Score: 239.14671339214584  -- Avg score: 204.8\n",
      "Episode: 320  -- Score: 214.15588475605165  -- Avg score: 207.23\n",
      "Episode: 330  -- Score: 164.00648708466147  -- Avg score: 204.67\n",
      "Episode: 340  -- Score: 216.90348599645034  -- Avg score: 205.11\n",
      "Episode: 350  -- Score: 256.0506374578824  -- Avg score: 210.2\n",
      "Episode: 360  -- Score: 104.63370890253886  -- Avg score: 210.96\n",
      "Episode: 370  -- Score: 213.48062049586423  -- Avg score: 213.15\n",
      "Episode: 380  -- Score: 278.0229337836381  -- Avg score: 215.16\n",
      "Episode: 390  -- Score: -30.971675421662596  -- Avg score: 201.58\n",
      "Episode: 400  -- Score: 287.62491754392113  -- Avg score: 203.2\n",
      "Episode: 410  -- Score: 222.7781764842395  -- Avg score: 196.65\n",
      "Episode: 420  -- Score: 166.09723894454322  -- Avg score: 199.14\n",
      "Episode: 430  -- Score: -66.78550455249967  -- Avg score: 202.24\n",
      "Exit the game since this episode takes too long.\n",
      "Episode: 440  -- Score: -163.12012232095972  -- Avg score: 201.56\n",
      "Episode: 450  -- Score: 256.64039768304144  -- Avg score: 181.44\n",
      "Episode: 460  -- Score: -12.832374024802874  -- Avg score: 166.6\n",
      "Exit the game since this episode takes too long.\n",
      "Episode: 470  -- Score: 287.01953714490094  -- Avg score: 167.02\n",
      "Exit the game since this episode takes too long.\n",
      "Episode: 480  -- Score: 270.0866716183416  -- Avg score: 167.35\n",
      "Episode: 490  -- Score: 238.55946947159376  -- Avg score: 166.63\n",
      "Episode: 500  -- Score: 253.47938341012565  -- Avg score: 169.16\n",
      "Episode: 510  -- Score: 256.11494901871333  -- Avg score: 168.21\n",
      "Episode: 520  -- Score: 289.6058784696097  -- Avg score: 162.54\n",
      "Episode: 530  -- Score: 232.56857665686329  -- Avg score: 156.01\n",
      "Episode: 540  -- Score: 273.29496068424714  -- Avg score: 142.0\n",
      "Episode: 550  -- Score: 254.78426620547054  -- Avg score: 160.19\n",
      "Episode: 560  -- Score: -26.825759797537344  -- Avg score: 178.37\n",
      "Episode: 570  -- Score: 266.97139467549164  -- Avg score: 185.5\n",
      "Episode: 580  -- Score: -97.51111765495118  -- Avg score: 187.1\n",
      "Episode: 590  -- Score: 275.763165543132  -- Avg score: 195.13\n",
      "Episode: 600  -- Score: 269.47818168044375  -- Avg score: 198.97\n",
      "Episode: 610  -- Score: 264.15199733663525  -- Avg score: 204.67\n",
      "Episode: 620  -- Score: 265.538511289649  -- Avg score: 212.55\n",
      "Episode: 630  -- Score: 227.9233173637988  -- Avg score: 219.66\n",
      "Episode: 640  -- Score: 255.09875383280234  -- Avg score: 237.27\n",
      "Episode: 650  -- Score: 288.9495337826926  -- Avg score: 243.12\n",
      "Episode: 660  -- Score: 216.3173952649022  -- Avg score: 247.37\n",
      "Episode: 670  -- Score: 247.57092976884826  -- Avg score: 247.31\n",
      "Episode: 680  -- Score: 283.9506570754089  -- Avg score: 249.43\n",
      "Training is done ! The average score is above 250.\n"
     ]
    }
   ],
   "source": [
    "env = gym.make('LunarLander-v2')\n",
    "# create an agent\n",
    "agent = dqn.DQNAgent(state_size, action_size, lr=0.001)\n",
    "# to store the scores and episodes\n",
    "num_episodes = 10000\n",
    "scores, avg_scores = [], []\n",
    "# start training\n",
    "for e in range(num_episodes):\n",
    "    done = False\n",
    "    score = 0\n",
    "    state = env.reset()\n",
    "    state = np.reshape(state[0], [1, state_size])\n",
    "    time_step = 0  # to count number of steps the ship takes to land\n",
    "    while not done:\n",
    "        time_step += 1\n",
    "        # get action for the current state and go one step in environment\n",
    "        action = agent.act(state)\n",
    "        next_state, reward, done, _, info = env.step(action)\n",
    "        next_state = np.reshape(next_state, [1, state_size])\n",
    "        # store the data\n",
    "        agent.store_data(state=state, action=action, reward=reward, next_state=next_state, done=done)\n",
    "        # train every time step\n",
    "        agent.learn()\n",
    "        score += reward\n",
    "        state = next_state\n",
    "        if time_step > 2000:\n",
    "            # we exit the game early if the episode takes too long\n",
    "            print(\"Exit the game since this episode takes too long.\")\n",
    "            break\n",
    "        if done:\n",
    "            scores.append(score)\n",
    "            avg_scores.append(np.mean(scores[-100:]))\n",
    "            if e % 10 == 0:\n",
    "                print(\"Episode:\", e, \" -- Score:\", score, \" -- Avg score:\", round(avg_scores[-1], 2))\n",
    "    \n",
    "    # stop training if the avg score is above 250\n",
    "    if avg_scores[-1] >= 250:\n",
    "        print('Training is done ! The average score is above 250.')\n",
    "        break\n",
    "    "
   ]
  },
  {
   "cell_type": "code",
   "execution_count": 7,
   "metadata": {},
   "outputs": [
    {
     "data": {
      "image/png": "[encoded data removed]",
      "text/plain": [
       "<Figure size 640x480 with 1 Axes>"
      ]
     },
     "metadata": {},
     "output_type": "display_data"
    }
   ],
   "source": [
    "plt.plot(avg_scores, color='red')\n",
    "plt.xlabel('Episode')\n",
    "plt.ylabel('Avg score')\n",
    "plt.savefig('dqn_lunalander_loss_over_episodes')"
   ]
  },
  {
   "cell_type": "markdown",
   "metadata": {},
   "source": [
    "TESTING"
   ]
  },
  {
   "cell_type": "code",
   "execution_count": 11,
   "metadata": {},
   "outputs": [
    {
     "name": "stdout",
     "output_type": "stream",
     "text": [
      "252.15155115670007\n"
     ]
    }
   ],
   "source": [
    "env = gym.make('LunarLander-v2', render_mode='human')\n",
    "# start testing\n",
    "done = False\n",
    "score = 0\n",
    "state = env.reset()\n",
    "state = np.reshape(state[0], [1, state_size])\n",
    "\n",
    "while not done:\n",
    "    # get action for the current state and go one step in environment\n",
    "    action = agent.act(state, evaluate=True)\n",
    "    next_state, reward, done, _, info = env.step(action)\n",
    "    next_state = np.reshape(next_state, [1, state_size])\n",
    "    score += reward\n",
    "    state = next_state\n",
    "\n",
    "print(score)"
   ]
  }
 ],
 "metadata": {
  "kernelspec": {
   "display_name": "rl_env",
   "language": "python",
   "name": "python3"
  },
  "language_info": {
   "codemirror_mode": {
    "name": "ipython",
    "version": 3
   },
   "file_extension": ".py",
   "mimetype": "text/x-python",
   "name": "python",
   "nbconvert_exporter": "python",
   "pygments_lexer": "ipython3",
   "version": "3.9.6"
  }
 },
 "nbformat": 4,
 "nbformat_minor": 2
}
