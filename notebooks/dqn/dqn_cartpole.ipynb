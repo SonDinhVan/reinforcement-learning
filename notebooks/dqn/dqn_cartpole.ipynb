{
 "cells": [
  {
   "cell_type": "code",
   "execution_count": 1,
   "metadata": {},
   "outputs": [],
   "source": [
    "from module import dqn\n",
    "\n",
    "import random\n",
    "\n",
    "import gym\n",
    "import numpy as np\n",
    "import matplotlib.pyplot as plt "
   ]
  },
  {
   "cell_type": "code",
   "execution_count": 2,
   "metadata": {},
   "outputs": [
    {
     "name": "stdout",
     "output_type": "stream",
     "text": [
      "State size =  4 ; action size =  2\n"
     ]
    }
   ],
   "source": [
    "env = gym.make('CartPole-v1', render_mode='human')\n",
    "# get size of state and action from environment\n",
    "state_size = env.observation_space.shape[0]\n",
    "action_size = env.action_space.n\n",
    "\n",
    "print(\"State size = \", state_size, \"; action size = \", action_size)"
   ]
  },
  {
   "cell_type": "markdown",
   "metadata": {},
   "source": [
    "TRAINING"
   ]
  },
  {
   "cell_type": "code",
   "execution_count": 3,
   "metadata": {},
   "outputs": [
    {
     "name": "stdout",
     "output_type": "stream",
     "text": [
      "Episode: 0  -- Score: 27.0  -- Avg score: 27.0\n",
      "Episode: 20  -- Score: 49.0  -- Avg score: 17.1\n",
      "Episode: 40  -- Score: 12.0  -- Avg score: 15.44\n"
     ]
    },
    {
     "name": "stderr",
     "output_type": "stream",
     "text": [
      "/Users/sondinhvan/miniconda3/envs/rl_env/lib/python3.9/site-packages/gym/utils/passive_env_checker.py:233: DeprecationWarning: `np.bool8` is a deprecated alias for `np.bool_`.  (Deprecated NumPy 1.24)\n",
      "  if not isinstance(terminated, (bool, np.bool8)):\n"
     ]
    },
    {
     "name": "stdout",
     "output_type": "stream",
     "text": [
      "Episode: 60  -- Score: 8.0  -- Avg score: 13.97\n",
      "Collect enough samples. Start training.\n",
      "Episode: 80  -- Score: 8.0  -- Avg score: 13.32\n",
      "Episode: 100  -- Score: 12.0  -- Avg score: 18.4\n",
      "Episode: 120  -- Score: 9.0  -- Avg score: 17.14\n",
      "Episode: 140  -- Score: 28.0  -- Avg score: 17.76\n",
      "Episode: 160  -- Score: 34.0  -- Avg score: 25.57\n",
      "Episode: 180  -- Score: 124.0  -- Avg score: 50.95\n",
      "Episode: 200  -- Score: 145.0  -- Avg score: 70.72\n",
      "Episode: 220  -- Score: 391.0  -- Avg score: 126.44\n",
      "Episode: 240  -- Score: 349.0  -- Avg score: 198.09\n",
      "Episode: 260  -- Score: 349.0  -- Avg score: 253.93\n",
      "Episode: 280  -- Score: 284.0  -- Avg score: 288.95\n",
      "Episode: 300  -- Score: 276.0  -- Avg score: 318.27\n",
      "Episode: 320  -- Score: 285.0  -- Avg score: 315.52\n",
      "Episode: 340  -- Score: 288.0  -- Avg score: 299.9\n",
      "Episode: 360  -- Score: 279.0  -- Avg score: 292.85\n",
      "Episode: 380  -- Score: 302.0  -- Avg score: 293.06\n",
      "Episode: 400  -- Score: 271.0  -- Avg score: 290.3\n",
      "Episode: 420  -- Score: 248.0  -- Avg score: 285.62\n",
      "Episode: 440  -- Score: 260.0  -- Avg score: 278.02\n",
      "Episode: 460  -- Score: 229.0  -- Avg score: 268.4\n",
      "Episode: 480  -- Score: 279.0  -- Avg score: 259.57\n",
      "Episode: 500  -- Score: 262.0  -- Avg score: 259.1\n",
      "Episode: 520  -- Score: 332.0  -- Avg score: 267.14\n",
      "Episode: 540  -- Score: 502.0  -- Avg score: 303.13\n",
      "Episode: 560  -- Score: 381.0  -- Avg score: 363.75\n",
      "Episode: 580  -- Score: 346.0  -- Avg score: 659.99\n",
      "Episode: 600  -- Score: 372.0  -- Avg score: 698.39\n",
      "Episode: 620  -- Score: 375.0  -- Avg score: 717.56\n",
      "Episode: 640  -- Score: 381.0  -- Avg score: 712.75\n",
      "Episode: 660  -- Score: 380.0  -- Avg score: 718.02\n",
      "Episode: 680  -- Score: 1490.0  -- Avg score: 500.89\n",
      "Episode: 700  -- Score: 1435.0  -- Avg score: 731.42\n",
      "Episode: 720  -- Score: 815.0  -- Avg score: 811.99\n",
      "Training is done ! The average score is above 1000.\n"
     ]
    }
   ],
   "source": [
    "env = gym.make('CartPole-v1')\n",
    "# create an agent\n",
    "agent = dqn.DQNAgent(state_size, action_size)\n",
    "# to store the scores and episodes\n",
    "num_episodes = 10000\n",
    "scores, avg_scores = [], []\n",
    "# start training\n",
    "for e in range(num_episodes):\n",
    "    done = False\n",
    "    score = 0\n",
    "    state = env.reset()\n",
    "    state = np.reshape(state[0], [1, state_size])\n",
    "\n",
    "    while not done:\n",
    "        # get action for the current state and go one step in environment\n",
    "        action = agent.act(state)\n",
    "        next_state, reward, done, _, info = env.step(action)\n",
    "        next_state = np.reshape(next_state, [1, state_size])\n",
    "        # if an action makes the episode end, gives penalty of -100\n",
    "        if done:\n",
    "            reward = -100\n",
    "        # store the data\n",
    "        agent.store_data(state=state, action=action, reward=reward, next_state=next_state, done=done)\n",
    "        # train every time step\n",
    "        agent.learn()\n",
    "        score += reward\n",
    "        state = next_state\n",
    "\n",
    "        if done:\n",
    "            # score needs to be added by 100 because we punished the last action if done\n",
    "            score += 100\n",
    "            scores.append(score)\n",
    "            avg_scores.append(np.mean(scores[-100:]))\n",
    "            if e % 20 == 0:\n",
    "                print(\"Episode:\", e, \" -- Score:\", score, \" -- Avg score:\", round(avg_scores[-1], 2))\n",
    "    \n",
    "    # stop training if the avg score is above 1000\n",
    "    if avg_scores[-1] >= 1000:\n",
    "        print('Training is done ! The average score is above 1000.')\n",
    "        break\n",
    "    "
   ]
  },
  {
   "cell_type": "code",
   "execution_count": 6,
   "metadata": {},
   "outputs": [
    {
     "data": {
      "image/png": "[encoded data removed]",
      "text/plain": [
       "<Figure size 640x480 with 1 Axes>"
      ]
     },
     "metadata": {},
     "output_type": "display_data"
    }
   ],
   "source": [
    "plt.plot(avg_scores, color='red')\n",
    "plt.xlabel('Episode')\n",
    "plt.ylabel('Avg score')\n",
    "plt.savefig('dqn_cartpole_loss_over_episodes')"
   ]
  },
  {
   "cell_type": "markdown",
   "metadata": {},
   "source": [
    "TESTING"
   ]
  },
  {
   "cell_type": "code",
   "execution_count": 8,
   "metadata": {},
   "outputs": [
    {
     "name": "stdout",
     "output_type": "stream",
     "text": [
      "1285.0\n"
     ]
    }
   ],
   "source": [
    "env = gym.make('CartPole-v1', render_mode='human')\n",
    "# start testing\n",
    "done = False\n",
    "score = 0\n",
    "state = env.reset()\n",
    "state = np.reshape(state[0], [1, state_size])\n",
    "\n",
    "while not done:\n",
    "    # get action for the current state and go one step in environment\n",
    "    action = agent.act(state, evaluate=True)\n",
    "    next_state, reward, done, _, info = env.step(action)\n",
    "    next_state = np.reshape(next_state, [1, state_size])\n",
    "    score += reward\n",
    "    state = next_state\n",
    "\n",
    "print(score)"
   ]
  },
  {
   "cell_type": "code",
   "execution_count": null,
   "metadata": {},
   "outputs": [],
   "source": [
    "score"
   ]
  }
 ],
 "metadata": {
  "kernelspec": {
   "display_name": "rl_env",
   "language": "python",
   "name": "python3"
  },
  "language_info": {
   "codemirror_mode": {
    "name": "ipython",
    "version": 3
   },
   "file_extension": ".py",
   "mimetype": "text/x-python",
   "name": "python",
   "nbconvert_exporter": "python",
   "pygments_lexer": "ipython3",
   "version": "3.9.6"
  }
 },
 "nbformat": 4,
 "nbformat_minor": 2
}
